{
 "cells": [
  {
   "cell_type": "code",
   "execution_count": 2,
   "metadata": {},
   "outputs": [],
   "source": [
    "import pandas as pd\n",
    "low_memoru=False\n",
    "import matplotlib.pyplot as plt\n",
    "import numpy as np\n",
    "%matplotlib inline\n",
    "pd.options.display.max_columns = 80\n",
    "pd.options.display.max_rows = 90"
   ]
  },
  {
   "cell_type": "code",
   "execution_count": 3,
   "metadata": {},
   "outputs": [],
   "source": [
    "filename = r'/home/peter/Documents/Faculdade/6-Sem-Noite/Lab_de_BD_MASSANORI/analise-de-covid-brasil/analise-de-covid-brasil.xlsx'\n",
    "df = pd.read_excel(filename)"
   ]
  },
  {
   "cell_type": "code",
   "execution_count": 45,
   "metadata": {},
   "outputs": [
    {
     "data": {
      "text/html": [
       "<div>\n",
       "<style scoped>\n",
       "    .dataframe tbody tr th:only-of-type {\n",
       "        vertical-align: middle;\n",
       "    }\n",
       "\n",
       "    .dataframe tbody tr th {\n",
       "        vertical-align: top;\n",
       "    }\n",
       "\n",
       "    .dataframe thead th {\n",
       "        text-align: right;\n",
       "    }\n",
       "</style>\n",
       "<table border=\"1\" class=\"dataframe\">\n",
       "  <thead>\n",
       "    <tr style=\"text-align: right;\">\n",
       "      <th></th>\n",
       "      <th>Cidade</th>\n",
       "      <th>código ibge da cidade</th>\n",
       "      <th>data</th>\n",
       "      <th>semana epidemiológica</th>\n",
       "      <th>população estimada 2019</th>\n",
       "      <th>é o último</th>\n",
       "      <th>é repetido</th>\n",
       "      <th>último disponível confirmado</th>\n",
       "      <th>último disponível confirmado por 100 mil habitantes</th>\n",
       "      <th>última data disponível</th>\n",
       "      <th>última taxa de mortalidade disponível</th>\n",
       "      <th>últimas mortes disponíveis</th>\n",
       "      <th>ordem de lugar</th>\n",
       "      <th>tipo de lugar</th>\n",
       "      <th>Estado</th>\n",
       "      <th>Novas confirmações</th>\n",
       "      <th>Novas mortes</th>\n",
       "    </tr>\n",
       "  </thead>\n",
       "  <tbody>\n",
       "    <tr>\n",
       "      <th>233195</th>\n",
       "      <td>Campinas</td>\n",
       "      <td>3509502.0</td>\n",
       "      <td>2020-06-19</td>\n",
       "      <td>25</td>\n",
       "      <td>1204073.0</td>\n",
       "      <td>False</td>\n",
       "      <td>False</td>\n",
       "      <td>5127</td>\n",
       "      <td>425.80475</td>\n",
       "      <td>2020-06-19</td>\n",
       "      <td>0.0396</td>\n",
       "      <td>203</td>\n",
       "      <td>94</td>\n",
       "      <td>city</td>\n",
       "      <td>SP</td>\n",
       "      <td>797</td>\n",
       "      <td>9</td>\n",
       "    </tr>\n",
       "    <tr>\n",
       "      <th>24467</th>\n",
       "      <td>Jaçanã</td>\n",
       "      <td>2405009.0</td>\n",
       "      <td>2020-04-21</td>\n",
       "      <td>17</td>\n",
       "      <td>9133.0</td>\n",
       "      <td>False</td>\n",
       "      <td>False</td>\n",
       "      <td>1</td>\n",
       "      <td>10.94930</td>\n",
       "      <td>2020-04-21</td>\n",
       "      <td>0.0000</td>\n",
       "      <td>0</td>\n",
       "      <td>5</td>\n",
       "      <td>city</td>\n",
       "      <td>RN</td>\n",
       "      <td>0</td>\n",
       "      <td>0</td>\n",
       "    </tr>\n",
       "    <tr>\n",
       "      <th>7981</th>\n",
       "      <td>Rolândia</td>\n",
       "      <td>4122404.0</td>\n",
       "      <td>2020-04-07</td>\n",
       "      <td>15</td>\n",
       "      <td>66580.0</td>\n",
       "      <td>False</td>\n",
       "      <td>False</td>\n",
       "      <td>1</td>\n",
       "      <td>1.50195</td>\n",
       "      <td>2020-04-07</td>\n",
       "      <td>0.0000</td>\n",
       "      <td>0</td>\n",
       "      <td>4</td>\n",
       "      <td>city</td>\n",
       "      <td>PR</td>\n",
       "      <td>0</td>\n",
       "      <td>0</td>\n",
       "    </tr>\n",
       "    <tr>\n",
       "      <th>194018</th>\n",
       "      <td>Ivoti</td>\n",
       "      <td>4310801.0</td>\n",
       "      <td>2020-06-11</td>\n",
       "      <td>24</td>\n",
       "      <td>24293.0</td>\n",
       "      <td>False</td>\n",
       "      <td>False</td>\n",
       "      <td>15</td>\n",
       "      <td>61.74618</td>\n",
       "      <td>2020-06-11</td>\n",
       "      <td>0.0667</td>\n",
       "      <td>1</td>\n",
       "      <td>84</td>\n",
       "      <td>city</td>\n",
       "      <td>RS</td>\n",
       "      <td>2</td>\n",
       "      <td>0</td>\n",
       "    </tr>\n",
       "    <tr>\n",
       "      <th>219175</th>\n",
       "      <td>Mâncio Lima</td>\n",
       "      <td>1200336.0</td>\n",
       "      <td>2020-06-17</td>\n",
       "      <td>25</td>\n",
       "      <td>18977.0</td>\n",
       "      <td>False</td>\n",
       "      <td>False</td>\n",
       "      <td>99</td>\n",
       "      <td>521.68414</td>\n",
       "      <td>2020-06-17</td>\n",
       "      <td>0.0101</td>\n",
       "      <td>1</td>\n",
       "      <td>50</td>\n",
       "      <td>city</td>\n",
       "      <td>AC</td>\n",
       "      <td>4</td>\n",
       "      <td>0</td>\n",
       "    </tr>\n",
       "    <tr>\n",
       "      <th>37406</th>\n",
       "      <td>Três Barras</td>\n",
       "      <td>4218301.0</td>\n",
       "      <td>2020-04-28</td>\n",
       "      <td>18</td>\n",
       "      <td>19275.0</td>\n",
       "      <td>False</td>\n",
       "      <td>False</td>\n",
       "      <td>1</td>\n",
       "      <td>5.18807</td>\n",
       "      <td>2020-04-28</td>\n",
       "      <td>0.0000</td>\n",
       "      <td>0</td>\n",
       "      <td>1</td>\n",
       "      <td>city</td>\n",
       "      <td>SC</td>\n",
       "      <td>1</td>\n",
       "      <td>0</td>\n",
       "    </tr>\n",
       "    <tr>\n",
       "      <th>306729</th>\n",
       "      <td>Castelândia</td>\n",
       "      <td>5205059.0</td>\n",
       "      <td>2020-07-04</td>\n",
       "      <td>27</td>\n",
       "      <td>3435.0</td>\n",
       "      <td>False</td>\n",
       "      <td>False</td>\n",
       "      <td>4</td>\n",
       "      <td>116.44833</td>\n",
       "      <td>2020-07-04</td>\n",
       "      <td>0.0000</td>\n",
       "      <td>0</td>\n",
       "      <td>33</td>\n",
       "      <td>city</td>\n",
       "      <td>GO</td>\n",
       "      <td>0</td>\n",
       "      <td>0</td>\n",
       "    </tr>\n",
       "    <tr>\n",
       "      <th>317428</th>\n",
       "      <td>Ouro Verde de Goiás</td>\n",
       "      <td>5215405.0</td>\n",
       "      <td>2020-07-06</td>\n",
       "      <td>28</td>\n",
       "      <td>3759.0</td>\n",
       "      <td>False</td>\n",
       "      <td>False</td>\n",
       "      <td>2</td>\n",
       "      <td>53.20564</td>\n",
       "      <td>2020-07-06</td>\n",
       "      <td>0.0000</td>\n",
       "      <td>0</td>\n",
       "      <td>22</td>\n",
       "      <td>city</td>\n",
       "      <td>GO</td>\n",
       "      <td>0</td>\n",
       "      <td>0</td>\n",
       "    </tr>\n",
       "    <tr>\n",
       "      <th>273185</th>\n",
       "      <td>Água Santa</td>\n",
       "      <td>4300059.0</td>\n",
       "      <td>2020-06-27</td>\n",
       "      <td>26</td>\n",
       "      <td>3748.0</td>\n",
       "      <td>False</td>\n",
       "      <td>False</td>\n",
       "      <td>25</td>\n",
       "      <td>667.02241</td>\n",
       "      <td>2020-06-27</td>\n",
       "      <td>0.0000</td>\n",
       "      <td>0</td>\n",
       "      <td>51</td>\n",
       "      <td>city</td>\n",
       "      <td>RS</td>\n",
       "      <td>7</td>\n",
       "      <td>0</td>\n",
       "    </tr>\n",
       "    <tr>\n",
       "      <th>247573</th>\n",
       "      <td>Paraí</td>\n",
       "      <td>4314001.0</td>\n",
       "      <td>2020-06-22</td>\n",
       "      <td>26</td>\n",
       "      <td>7657.0</td>\n",
       "      <td>False</td>\n",
       "      <td>False</td>\n",
       "      <td>18</td>\n",
       "      <td>235.07901</td>\n",
       "      <td>2020-06-22</td>\n",
       "      <td>0.0000</td>\n",
       "      <td>0</td>\n",
       "      <td>91</td>\n",
       "      <td>city</td>\n",
       "      <td>RS</td>\n",
       "      <td>0</td>\n",
       "      <td>0</td>\n",
       "    </tr>\n",
       "  </tbody>\n",
       "</table>\n",
       "</div>"
      ],
      "text/plain": [
       "                     Cidade  código ibge da cidade        data  \\\n",
       "233195             Campinas              3509502.0  2020-06-19   \n",
       "24467                Jaçanã              2405009.0  2020-04-21   \n",
       "7981               Rolândia              4122404.0  2020-04-07   \n",
       "194018                Ivoti              4310801.0  2020-06-11   \n",
       "219175          Mâncio Lima              1200336.0  2020-06-17   \n",
       "37406           Três Barras              4218301.0  2020-04-28   \n",
       "306729          Castelândia              5205059.0  2020-07-04   \n",
       "317428  Ouro Verde de Goiás              5215405.0  2020-07-06   \n",
       "273185           Água Santa              4300059.0  2020-06-27   \n",
       "247573                Paraí              4314001.0  2020-06-22   \n",
       "\n",
       "        semana epidemiológica  população estimada 2019  é o último  \\\n",
       "233195                     25                1204073.0       False   \n",
       "24467                      17                   9133.0       False   \n",
       "7981                       15                  66580.0       False   \n",
       "194018                     24                  24293.0       False   \n",
       "219175                     25                  18977.0       False   \n",
       "37406                      18                  19275.0       False   \n",
       "306729                     27                   3435.0       False   \n",
       "317428                     28                   3759.0       False   \n",
       "273185                     26                   3748.0       False   \n",
       "247573                     26                   7657.0       False   \n",
       "\n",
       "        é repetido  último disponível confirmado  \\\n",
       "233195       False                          5127   \n",
       "24467        False                             1   \n",
       "7981         False                             1   \n",
       "194018       False                            15   \n",
       "219175       False                            99   \n",
       "37406        False                             1   \n",
       "306729       False                             4   \n",
       "317428       False                             2   \n",
       "273185       False                            25   \n",
       "247573       False                            18   \n",
       "\n",
       "        último disponível confirmado por 100 mil habitantes  \\\n",
       "233195                                          425.80475     \n",
       "24467                                            10.94930     \n",
       "7981                                              1.50195     \n",
       "194018                                           61.74618     \n",
       "219175                                          521.68414     \n",
       "37406                                             5.18807     \n",
       "306729                                          116.44833     \n",
       "317428                                           53.20564     \n",
       "273185                                          667.02241     \n",
       "247573                                          235.07901     \n",
       "\n",
       "       última data disponível  última taxa de mortalidade disponível  \\\n",
       "233195             2020-06-19                                 0.0396   \n",
       "24467              2020-04-21                                 0.0000   \n",
       "7981               2020-04-07                                 0.0000   \n",
       "194018             2020-06-11                                 0.0667   \n",
       "219175             2020-06-17                                 0.0101   \n",
       "37406              2020-04-28                                 0.0000   \n",
       "306729             2020-07-04                                 0.0000   \n",
       "317428             2020-07-06                                 0.0000   \n",
       "273185             2020-06-27                                 0.0000   \n",
       "247573             2020-06-22                                 0.0000   \n",
       "\n",
       "        últimas mortes disponíveis  ordem de lugar tipo de lugar Estado  \\\n",
       "233195                         203              94          city     SP   \n",
       "24467                            0               5          city     RN   \n",
       "7981                             0               4          city     PR   \n",
       "194018                           1              84          city     RS   \n",
       "219175                           1              50          city     AC   \n",
       "37406                            0               1          city     SC   \n",
       "306729                           0              33          city     GO   \n",
       "317428                           0              22          city     GO   \n",
       "273185                           0              51          city     RS   \n",
       "247573                           0              91          city     RS   \n",
       "\n",
       "        Novas confirmações  Novas mortes  \n",
       "233195                 797             9  \n",
       "24467                    0             0  \n",
       "7981                     0             0  \n",
       "194018                   2             0  \n",
       "219175                   4             0  \n",
       "37406                    1             0  \n",
       "306729                   0             0  \n",
       "317428                   0             0  \n",
       "273185                   7             0  \n",
       "247573                   0             0  "
      ]
     },
     "execution_count": 45,
     "metadata": {},
     "output_type": "execute_result"
    }
   ],
   "source": [
    "df.sample(10)"
   ]
  },
  {
   "cell_type": "code",
   "execution_count": 50,
   "metadata": {},
   "outputs": [
    {
     "data": {
      "text/plain": [
       "<matplotlib.axes._subplots.AxesSubplot at 0x7f95394bfcc0>"
      ]
     },
     "execution_count": 50,
     "metadata": {},
     "output_type": "execute_result"
    },
    {
     "data": {
      "image/png": "[encoded data removed]",
      "text/plain": [
       "<Figure size 432x288 with 1 Axes>"
      ]
     },
     "metadata": {
      "needs_background": "light"
     },
     "output_type": "display_data"
    }
   ],
   "source": [
    "df.groupby('Cidade')['últimas mortes disponíveis'].max().sort_values().tail(10).plot(kind='barh')"
   ]
  },
  {
   "cell_type": "code",
   "execution_count": 11,
   "metadata": {},
   "outputs": [
    {
     "data": {
      "text/plain": [
       "<matplotlib.axes._subplots.AxesSubplot at 0x7fc4451e04a8>"
      ]
     },
     "execution_count": 11,
     "metadata": {},
     "output_type": "execute_result"
    },
    {
     "data": {
      "image/png": "[encoded data removed]",
      "text/plain": [
       "<Figure size 432x288 with 1 Axes>"
      ]
     },
     "metadata": {
      "needs_background": "light"
     },
     "output_type": "display_data"
    }
   ],
   "source": [
    "df.groupby('Estado')['Novas confirmações'].max().sort_values().tail(10).plot(kind='barh', color='yellow')"
   ]
  },
  {
   "cell_type": "code",
   "execution_count": 40,
   "metadata": {},
   "outputs": [
    {
     "data": {
      "text/plain": [
       "<matplotlib.axes._subplots.AxesSubplot at 0x7f9539e93ac8>"
      ]
     },
     "execution_count": 40,
     "metadata": {},
     "output_type": "execute_result"
    },
    {
     "data": {
      "image/png": "[encoded data removed]",
      "text/plain": [
       "<Figure size 432x288 with 1 Axes>"
      ]
     },
     "metadata": {
      "needs_background": "light"
     },
     "output_type": "display_data"
    }
   ],
   "source": [
    "region = df.query('Cidade == \"São José dos Campos\"')\n",
    "region.tail(10).plot(kind='bar', \n",
    "        x='data', y='Novas confirmações', color='RED')"
   ]
  },
  {
   "cell_type": "code",
   "execution_count": 38,
   "metadata": {},
   "outputs": [
    {
     "data": {
      "text/plain": [
       "<matplotlib.axes._subplots.AxesSubplot at 0x7f953820a710>"
      ]
     },
     "execution_count": 38,
     "metadata": {},
     "output_type": "execute_result"
    },
    {
     "data": {
      "image/png": "[encoded data removed]",
      "text/plain": [
       "<Figure size 432x288 with 1 Axes>"
      ]
     },
     "metadata": {
      "needs_background": "light"
     },
     "output_type": "display_data"
    }
   ],
   "source": [
    "region.groupby('semana epidemiológica')['Novas mortes'].sum().plot(kind='bar')"
   ]
  },
  {
   "cell_type": "code",
   "execution_count": 12,
   "metadata": {},
   "outputs": [],
   "source": [
    "def ballPlot(x_data, y_data, x_label=\"\", y_label=\"\", title=\"\", color = \"g\", yscale_log=False):\n",
    "\n",
    "    # Cria o objeto Plot\n",
    "    _, ax = plt.subplots()\n",
    "\n",
    "    # Coloca a data, seta o tamanho (s), Cor e transparencia (alpha)\n",
    "    ax.scatter(x_data, y_data, s = 10, color = color, alpha = 1)\n",
    "\n",
    "    if yscale_log == True:\n",
    "        ax.set_yscale('log')\n",
    "\n",
    "    # Label the axes and provide a title\n",
    "    ax.set_title(title)\n",
    "    ax.set_xlabel(x_label)\n",
    "    ax.set_ylabel(y_label)"
   ]
  },
  {
   "cell_type": "code",
   "execution_count": 78,
   "metadata": {},
   "outputs": [
    {
     "data": {
      "image/png": "[encoded data removed]",
      "text/plain": [
       "<Figure size 432x288 with 1 Axes>"
      ]
     },
     "metadata": {
      "needs_background": "light"
     },
     "output_type": "display_data"
    }
   ],
   "source": [
    "ballPlot(df['data'],df['Novas mortes'], title='Novos Óbitos por data', y_label='Quantidade',x_label='Periodo')"
   ]
  },
  {
   "cell_type": "code",
   "execution_count": 15,
   "metadata": {},
   "outputs": [
    {
     "data": {
      "image/png": "[encoded data removed]",
      "text/plain": [
       "<Figure size 432x288 with 1 Axes>"
      ]
     },
     "metadata": {
      "needs_background": "light"
     },
     "output_type": "display_data"
    }
   ],
   "source": [
    "ballPlot(df['data'],df['Novas confirmações'], title='Novos Confirmações por data', y_label='Quantidade',x_label='Periodo', color='r')"
   ]
  }
 ],
 "metadata": {
  "kernelspec": {
   "display_name": "Python 3",
   "language": "python",
   "name": "python3"
  },
  "language_info": {
   "codemirror_mode": {
    "name": "ipython",
    "version": 3
   },
   "file_extension": ".py",
   "mimetype": "text/x-python",
   "name": "python",
   "nbconvert_exporter": "python",
   "pygments_lexer": "ipython3",
   "version": "3.6.9"
  }
 },
 "nbformat": 4,
 "nbformat_minor": 4
}
